{
 "cells": [
  {
   "cell_type": "markdown",
   "metadata": {},
   "source": [
    "# Emoji Prediction"
   ]
  },
  {
   "cell_type": "markdown",
   "metadata": {},
   "source": [
    "### Import libraries"
   ]
  },
  {
   "cell_type": "code",
   "execution_count": 1,
   "metadata": {},
   "outputs": [],
   "source": [
    "import os\n",
    "import numpy as np\n",
    "import pandas as pd\n",
    "import matplotlib.pyplot as plt\n",
    "import seaborn as sns"
   ]
  },
  {
   "cell_type": "markdown",
   "metadata": {},
   "source": [
    "### Load Data"
   ]
  },
  {
   "cell_type": "code",
   "execution_count": 17,
   "metadata": {},
   "outputs": [],
   "source": [
    "train_txt_raw = open('data/us_train.text','r',encoding=\"utf8\")\n",
    "train_labels_raw = open('data/us_train.labels','r',encoding=\"utf8\")\n",
    "\n",
    "train_txt = []\n",
    "train_labels = []\n",
    "\n",
    "for sentence in train_txt_raw:\n",
    "    sentence = sentence.rstrip()\n",
    "    train_txt.append(sentence)\n",
    "    \n",
    "for sentence in train_labels_raw:\n",
    "    sentence = sentence.rstrip()\n",
    "    sentence = int(sentence)\n",
    "    train_labels.append(sentence)\n",
    "\n",
    "\n",
    "df = pd.DataFrame()\n",
    "df[\"Tweet\"] = train_txt\n",
    "df[\"Label\"] = train_labels"
   ]
  },
  {
   "cell_type": "code",
   "execution_count": 21,
   "metadata": {},
   "outputs": [
    {
     "data": {
      "text/html": [
       "<div>\n",
       "<style scoped>\n",
       "    .dataframe tbody tr th:only-of-type {\n",
       "        vertical-align: middle;\n",
       "    }\n",
       "\n",
       "    .dataframe tbody tr th {\n",
       "        vertical-align: top;\n",
       "    }\n",
       "\n",
       "    .dataframe thead th {\n",
       "        text-align: right;\n",
       "    }\n",
       "</style>\n",
       "<table border=\"1\" class=\"dataframe\">\n",
       "  <thead>\n",
       "    <tr style=\"text-align: right;\">\n",
       "      <th></th>\n",
       "      <th>Tweet</th>\n",
       "      <th>Label</th>\n",
       "    </tr>\n",
       "  </thead>\n",
       "  <tbody>\n",
       "    <tr>\n",
       "      <th>0</th>\n",
       "      <td>A little throwback with my favourite person @ ...</td>\n",
       "      <td>0</td>\n",
       "    </tr>\n",
       "    <tr>\n",
       "      <th>1</th>\n",
       "      <td>glam on @user yesterday for #kcon makeup using...</td>\n",
       "      <td>7</td>\n",
       "    </tr>\n",
       "    <tr>\n",
       "      <th>2</th>\n",
       "      <td>Democracy Plaza in the wake of a stunning outc...</td>\n",
       "      <td>11</td>\n",
       "    </tr>\n",
       "    <tr>\n",
       "      <th>3</th>\n",
       "      <td>Then &amp;amp; Now. VILO @ Walt Disney Magic Kingdom</td>\n",
       "      <td>0</td>\n",
       "    </tr>\n",
       "    <tr>\n",
       "      <th>4</th>\n",
       "      <td>Who never... @ A Galaxy Far Far Away</td>\n",
       "      <td>2</td>\n",
       "    </tr>\n",
       "    <tr>\n",
       "      <th>5</th>\n",
       "      <td>Dinner in FLA tonight // Pan-seared salmon ove...</td>\n",
       "      <td>1</td>\n",
       "    </tr>\n",
       "    <tr>\n",
       "      <th>6</th>\n",
       "      <td>It's my fav seniors last game congrats on beat...</td>\n",
       "      <td>8</td>\n",
       "    </tr>\n",
       "    <tr>\n",
       "      <th>7</th>\n",
       "      <td>I got to to go formal with my best friend @ Ph...</td>\n",
       "      <td>0</td>\n",
       "    </tr>\n",
       "    <tr>\n",
       "      <th>8</th>\n",
       "      <td>'Cause I Miss My Little Homies .#Throwback #Co...</td>\n",
       "      <td>13</td>\n",
       "    </tr>\n",
       "    <tr>\n",
       "      <th>9</th>\n",
       "      <td>Birthday Kisses @ Madison, Wisconsin</td>\n",
       "      <td>9</td>\n",
       "    </tr>\n",
       "  </tbody>\n",
       "</table>\n",
       "</div>"
      ],
      "text/plain": [
       "                                               Tweet  Label\n",
       "0  A little throwback with my favourite person @ ...      0\n",
       "1  glam on @user yesterday for #kcon makeup using...      7\n",
       "2  Democracy Plaza in the wake of a stunning outc...     11\n",
       "3   Then &amp; Now. VILO @ Walt Disney Magic Kingdom      0\n",
       "4               Who never... @ A Galaxy Far Far Away      2\n",
       "5  Dinner in FLA tonight // Pan-seared salmon ove...      1\n",
       "6  It's my fav seniors last game congrats on beat...      8\n",
       "7  I got to to go formal with my best friend @ Ph...      0\n",
       "8  'Cause I Miss My Little Homies .#Throwback #Co...     13\n",
       "9               Birthday Kisses @ Madison, Wisconsin      9"
      ]
     },
     "execution_count": 21,
     "metadata": {},
     "output_type": "execute_result"
    }
   ],
   "source": [
    "df.head(10)"
   ]
  },
  {
   "cell_type": "markdown",
   "metadata": {},
   "source": [
    "### Emoji mapping"
   ]
  },
  {
   "cell_type": "code",
   "execution_count": 10,
   "metadata": {},
   "outputs": [
    {
     "name": "stdout",
     "output_type": "stream",
     "text": [
      "0\t❤️\t Red heart\t\n",
      "\n",
      "1\t😍\t Smiling face with hearteyes\t\n",
      "\n",
      "2\t😂\t Face with tears of joy\t\n",
      "\n",
      "3\t💕\t Two hearts\n",
      "\n",
      "4\t🔥\t Fire\n",
      "\n",
      "5\t😊\t Smiling face with smiling eyes\t\n",
      "\n",
      "6\t😎\t Smiling face with sunglasses\t\n",
      "\n",
      "7\t✨\t Sparkles \t\n",
      "\n",
      "8\t💙\t Blue heart\n",
      "\n",
      "9\t😘\t Face blowing a kiss\t\n",
      "\n",
      "10\t📷\t Camera\t\n",
      "\n",
      "11\t🇺🇸\t United States\t\n",
      "\n",
      "12\t☀️\t Sun\n",
      "\n",
      "13\t💜\t Purple heart \t\n",
      "\n",
      "14\t😉\t Winking face\t\n",
      "\n",
      "15\t💯\t Hundred points\t\n",
      "\n",
      "16\t😁\t Beaming face with smiling eyes\t\n",
      "\n",
      "17\t🎄\tChristmas tree\t\n",
      "\n",
      "18\t📸\tCamera with flash\n",
      "\n",
      "19\t😜\tWinking face with tongue\t\n",
      "\n"
     ]
    }
   ],
   "source": [
    "emoji_raw = open('data/us_mapping.txt','r',encoding=\"utf8\")\n",
    "\n",
    "emojis=[]\n",
    "for sentence in emoji_raw:\n",
    "    print(sentence)\n",
    "    sentence = sentence.rstrip()\n",
    "    emojis.append(sentence)\n",
    "\n",
    "mapp = []\n",
    "emos = []\n",
    "sent = []\n",
    "\n",
    "for e in emojis:\n",
    "    mapp.append(e.split()[0])\n",
    "    emos.append(e.split()[1])\n",
    "    sent.append(\" \".join(e.split()[2:]))\n",
    "\n",
    "df_em = pd.DataFrame({'Label':mapp})\n",
    "df_em[\"Emoji\"] = emos\n",
    "df_em[\"Description\"] = sent"
   ]
  },
  {
   "cell_type": "code",
   "execution_count": 32,
   "metadata": {},
   "outputs": [
    {
     "data": {
      "image/png": "[encoded data removed]",
      "text/plain": [
       "<Figure size 576x360 with 1 Axes>"
      ]
     },
     "metadata": {
      "needs_background": "light"
     },
     "output_type": "display_data"
    }
   ],
   "source": [
    "plt.figure(figsize=(8,5))\n",
    "sns.countplot(x=\"Label\", data=df, palette=\"plasma\")\n",
    "plt.show()"
   ]
  },
  {
   "cell_type": "code",
   "execution_count": 45,
   "metadata": {},
   "outputs": [
    {
     "data": {
      "image/png": "[encoded data removed]",
      "text/plain": [
       "<Figure size 576x360 with 1 Axes>"
      ]
     },
     "metadata": {
      "needs_background": "light"
     },
     "output_type": "display_data"
    }
   ],
   "source": [
    "import warnings\n",
    "warnings.filterwarnings(action='ignore')\n",
    "\n",
    "plt.figure(figsize=(8,5))\n",
    "df[\"Length\"] = df[\"Tweet\"].apply(len)\n",
    "sns.distplot(df[\"Length\"])\n",
    "plt.show()"
   ]
  },
  {
   "cell_type": "code",
   "execution_count": 46,
   "metadata": {},
   "outputs": [
    {
     "data": {
      "text/html": [
       "<div>\n",
       "<style scoped>\n",
       "    .dataframe tbody tr th:only-of-type {\n",
       "        vertical-align: middle;\n",
       "    }\n",
       "\n",
       "    .dataframe tbody tr th {\n",
       "        vertical-align: top;\n",
       "    }\n",
       "\n",
       "    .dataframe thead th {\n",
       "        text-align: right;\n",
       "    }\n",
       "</style>\n",
       "<table border=\"1\" class=\"dataframe\">\n",
       "  <thead>\n",
       "    <tr style=\"text-align: right;\">\n",
       "      <th></th>\n",
       "      <th>Label</th>\n",
       "      <th>Length</th>\n",
       "    </tr>\n",
       "  </thead>\n",
       "  <tbody>\n",
       "    <tr>\n",
       "      <th>count</th>\n",
       "      <td>50000.000000</td>\n",
       "      <td>50000.000000</td>\n",
       "    </tr>\n",
       "    <tr>\n",
       "      <th>mean</th>\n",
       "      <td>5.903680</td>\n",
       "      <td>66.645380</td>\n",
       "    </tr>\n",
       "    <tr>\n",
       "      <th>std</th>\n",
       "      <td>5.851024</td>\n",
       "      <td>22.514753</td>\n",
       "    </tr>\n",
       "    <tr>\n",
       "      <th>min</th>\n",
       "      <td>0.000000</td>\n",
       "      <td>4.000000</td>\n",
       "    </tr>\n",
       "    <tr>\n",
       "      <th>25%</th>\n",
       "      <td>1.000000</td>\n",
       "      <td>50.000000</td>\n",
       "    </tr>\n",
       "    <tr>\n",
       "      <th>50%</th>\n",
       "      <td>4.000000</td>\n",
       "      <td>67.000000</td>\n",
       "    </tr>\n",
       "    <tr>\n",
       "      <th>75%</th>\n",
       "      <td>10.000000</td>\n",
       "      <td>87.000000</td>\n",
       "    </tr>\n",
       "    <tr>\n",
       "      <th>max</th>\n",
       "      <td>19.000000</td>\n",
       "      <td>146.000000</td>\n",
       "    </tr>\n",
       "  </tbody>\n",
       "</table>\n",
       "</div>"
      ],
      "text/plain": [
       "              Label        Length\n",
       "count  50000.000000  50000.000000\n",
       "mean       5.903680     66.645380\n",
       "std        5.851024     22.514753\n",
       "min        0.000000      4.000000\n",
       "25%        1.000000     50.000000\n",
       "50%        4.000000     67.000000\n",
       "75%       10.000000     87.000000\n",
       "max       19.000000    146.000000"
      ]
     },
     "execution_count": 46,
     "metadata": {},
     "output_type": "execute_result"
    }
   ],
   "source": [
    "df.describe()"
   ]
  },
  {
   "cell_type": "code",
   "execution_count": null,
   "metadata": {},
   "outputs": [],
   "source": []
  }
 ],
 "metadata": {
  "kernelspec": {
   "display_name": "Python 3 (ipykernel)",
   "language": "python",
   "name": "python3"
  },
  "language_info": {
   "codemirror_mode": {
    "name": "ipython",
    "version": 3
   },
   "file_extension": ".py",
   "mimetype": "text/x-python",
   "name": "python",
   "nbconvert_exporter": "python",
   "pygments_lexer": "ipython3",
   "version": "3.9.7"
  }
 },
 "nbformat": 4,
 "nbformat_minor": 2
}
