{
 "cells": [
  {
   "cell_type": "markdown",
   "metadata": {},
   "source": [
    "# Emoji Prediction using Deep Learning"
   ]
  },
  {
   "cell_type": "markdown",
   "metadata": {},
   "source": [
    "####     "
   ]
  },
  {
   "cell_type": "code",
   "execution_count": 2,
   "metadata": {
    "id": "KefB9sl0AuNP"
   },
   "outputs": [],
   "source": [
    "import numpy as np\n",
    "import pandas as pd\n",
    "import matplotlib.pyplot as plt\n",
    "import seaborn as sns\n",
    "\n",
    "import tensorflow as tf\n",
    "import tensorflow.keras"
   ]
  },
  {
   "cell_type": "code",
   "execution_count": 3,
   "metadata": {
    "id": "YU0-punLAuNU"
   },
   "outputs": [],
   "source": [
    "df = pd.read_csv(\"data/stp_lm.csv\")\n",
    "df.dropna(inplace=True)"
   ]
  },
  {
   "cell_type": "code",
   "execution_count": 4,
   "metadata": {
    "colab": {
     "base_uri": "https://localhost:8080/",
     "height": 359
    },
    "id": "E3EAr6bMAuNY",
    "outputId": "7f016950-c8a6-4480-819d-1dc3510fcbae"
   },
   "outputs": [
    {
     "data": {
      "text/html": [
       "<div>\n",
       "<style scoped>\n",
       "    .dataframe tbody tr th:only-of-type {\n",
       "        vertical-align: middle;\n",
       "    }\n",
       "\n",
       "    .dataframe tbody tr th {\n",
       "        vertical-align: top;\n",
       "    }\n",
       "\n",
       "    .dataframe thead th {\n",
       "        text-align: right;\n",
       "    }\n",
       "</style>\n",
       "<table border=\"1\" class=\"dataframe\">\n",
       "  <thead>\n",
       "    <tr style=\"text-align: right;\">\n",
       "      <th></th>\n",
       "      <th>Tweet</th>\n",
       "      <th>Label</th>\n",
       "    </tr>\n",
       "  </thead>\n",
       "  <tbody>\n",
       "    <tr>\n",
       "      <th>0</th>\n",
       "      <td>little throwback favourite person   water wall</td>\n",
       "      <td>0</td>\n",
       "    </tr>\n",
       "    <tr>\n",
       "      <th>1</th>\n",
       "      <td>glam   yesterday kcon makeup   featherette</td>\n",
       "      <td>7</td>\n",
       "    </tr>\n",
       "    <tr>\n",
       "      <th>2</th>\n",
       "      <td>democracy plaza wake stunning outcome decision...</td>\n",
       "      <td>11</td>\n",
       "    </tr>\n",
       "    <tr>\n",
       "      <th>3</th>\n",
       "      <td>amp vilo   walt disney magic kingdom</td>\n",
       "      <td>0</td>\n",
       "    </tr>\n",
       "    <tr>\n",
       "      <th>4</th>\n",
       "      <td>galaxy far far away</td>\n",
       "      <td>2</td>\n",
       "    </tr>\n",
       "    <tr>\n",
       "      <th>5</th>\n",
       "      <td>dinner fla tonight   panseared salmon couscous...</td>\n",
       "      <td>1</td>\n",
       "    </tr>\n",
       "    <tr>\n",
       "      <th>6</th>\n",
       "      <td>fav senior game congrats beating west   west s...</td>\n",
       "      <td>8</td>\n",
       "    </tr>\n",
       "    <tr>\n",
       "      <th>7</th>\n",
       "      <td>got formal best friend   phi mu jsu</td>\n",
       "      <td>0</td>\n",
       "    </tr>\n",
       "    <tr>\n",
       "      <th>8</th>\n",
       "      <td>cause miss little homies throwback cousinlove ...</td>\n",
       "      <td>13</td>\n",
       "    </tr>\n",
       "    <tr>\n",
       "      <th>9</th>\n",
       "      <td>birthday kiss   madison wisconsin</td>\n",
       "      <td>9</td>\n",
       "    </tr>\n",
       "  </tbody>\n",
       "</table>\n",
       "</div>"
      ],
      "text/plain": [
       "                                               Tweet  Label\n",
       "0     little throwback favourite person   water wall      0\n",
       "1         glam   yesterday kcon makeup   featherette      7\n",
       "2  democracy plaza wake stunning outcome decision...     11\n",
       "3               amp vilo   walt disney magic kingdom      0\n",
       "4                                galaxy far far away      2\n",
       "5  dinner fla tonight   panseared salmon couscous...      1\n",
       "6  fav senior game congrats beating west   west s...      8\n",
       "7                got formal best friend   phi mu jsu      0\n",
       "8  cause miss little homies throwback cousinlove ...     13\n",
       "9                  birthday kiss   madison wisconsin      9"
      ]
     },
     "execution_count": 4,
     "metadata": {},
     "output_type": "execute_result"
    }
   ],
   "source": [
    "df.head(10)"
   ]
  },
  {
   "cell_type": "markdown",
   "metadata": {
    "id": "EuJWwArsAuNd"
   },
   "source": [
    "### Over-sampling data"
   ]
  },
  {
   "cell_type": "code",
   "execution_count": 5,
   "metadata": {
    "id": "6fAkJ1_1AuNe"
   },
   "outputs": [],
   "source": [
    "X = df[\"Tweet\"].values\n",
    "y = df[\"Label\"].values"
   ]
  },
  {
   "cell_type": "code",
   "execution_count": 8,
   "metadata": {
    "colab": {
     "base_uri": "https://localhost:8080/"
    },
    "id": "zvJvAx1Zzk2c",
    "outputId": "7a2c2575-8fb7-4019-ab0f-5b0c3a54f9a0"
   },
   "outputs": [],
   "source": [
    "from imblearn.over_sampling import RandomOverSampler\n",
    "\n",
    "os = RandomOverSampler()\n",
    "X = X.reshape(-1,1)\n",
    "X, y = os.fit_sample(X, y)"
   ]
  },
  {
   "cell_type": "code",
   "execution_count": 9,
   "metadata": {
    "colab": {
     "base_uri": "https://localhost:8080/"
    },
    "id": "qjFsaJEU2SCy",
    "outputId": "aaac7ee7-da1d-4a04-c350-979748cbafde"
   },
   "outputs": [
    {
     "data": {
      "text/plain": [
       "(49985,)"
      ]
     },
     "execution_count": 9,
     "metadata": {},
     "output_type": "execute_result"
    }
   ],
   "source": [
    "X = X.reshape(-1,)\n",
    "X.shape"
   ]
  },
  {
   "cell_type": "markdown",
   "metadata": {
    "id": "BB0oBw-eAuNi"
   },
   "source": [
    "#   "
   ]
  },
  {
   "cell_type": "markdown",
   "metadata": {
    "id": "dXWMjTNYAuNj"
   },
   "source": [
    "### Tokenization"
   ]
  },
  {
   "cell_type": "code",
   "execution_count": 11,
   "metadata": {
    "id": "65z0pXN_AuNk"
   },
   "outputs": [],
   "source": [
    "from keras.preprocessing.text import Tokenizer\n",
    "\n",
    "tokenizer = Tokenizer(num_words=80000)\n",
    "tokenizer.fit_on_texts(X)"
   ]
  },
  {
   "cell_type": "code",
   "execution_count": 12,
   "metadata": {
    "colab": {
     "base_uri": "https://localhost:8080/"
    },
    "id": "VDWxkBNLAuNn",
    "outputId": "8a8fd003-7102-42b9-87d6-ff44703a0eb4"
   },
   "outputs": [
    {
     "name": "stdout",
     "output_type": "stream",
     "text": [
      "Text \n",
      " ['little throwback favourite person   water wall'\n",
      " 'glam   yesterday kcon makeup   featherette'\n",
      " 'democracy plaza wake stunning outcome decision   nbc news'\n",
      " 'amp vilo   walt disney magic kingdom' '  galaxy far far away'\n",
      " 'dinner fla tonight   panseared salmon couscous veggie salad yum dinner florida salmon'\n",
      " 'fav senior game congrats beating west   west salem'\n",
      " 'got formal best friend   phi mu jsu'\n",
      " 'cause miss little homies throwback cousinlove   indiana university'\n",
      " 'birthday kiss   madison wisconsin'] \n",
      "\n",
      "Sequences\n"
     ]
    },
    {
     "data": {
      "text/plain": [
       "[[25, 310, 1605, 288, 474, 622],\n",
       " [2748, 194, 15729, 526, 15730],\n",
       " [5764, 623, 898, 974, 7993, 2906, 4598, 1205],\n",
       " [6, 15731, 372, 57, 149, 228],\n",
       " [2225, 639, 639, 409],\n",
       " [106, 4599, 40, 15732, 2140, 15733, 3118, 1301, 1206, 106, 51, 2140],\n",
       " [373, 321, 94, 374, 6679, 127, 127, 2335],\n",
       " [16, 870, 13, 17, 788, 2907, 7994],\n",
       " [380, 65, 25, 1562, 310, 4167, 402, 21],\n",
       " [22, 624, 496, 687]]"
      ]
     },
     "execution_count": 12,
     "metadata": {},
     "output_type": "execute_result"
    }
   ],
   "source": [
    "print(\"Text \\n\",X[:10],'\\n')\n",
    "\n",
    "X_seqs = tokenizer.texts_to_sequences(X)\n",
    "print(\"Sequences\")\n",
    "X_seqs[:10]"
   ]
  },
  {
   "cell_type": "code",
   "execution_count": 13,
   "metadata": {
    "colab": {
     "base_uri": "https://localhost:8080/"
    },
    "id": "Wq8BAJxrAuNr",
    "outputId": "1cfc2054-4d8c-42f7-e030-7940c54820b5"
   },
   "outputs": [
    {
     "name": "stdout",
     "output_type": "stream",
     "text": [
      "Word Mappings\n",
      "\n",
      "Index:  1 ----> love\n",
      "Index:  2 ----> new\n",
      "Index:  3 ----> day\n",
      "Index:  4 ----> nt\n",
      "Index:  5 ----> happy\n",
      "Index:  6 ----> amp\n",
      "Index:  7 ----> m\n",
      "Index:  8 ----> time\n",
      "Index:  9 ----> night\n"
     ]
    }
   ],
   "source": [
    "idx2words = tokenizer.index_word\n",
    "\n",
    "print(\"Word Mappings\\n\")\n",
    "for i in range(1,10):\n",
    "    print(\"Index: \",i, \"---->\",idx2words[i])"
   ]
  },
  {
   "cell_type": "code",
   "execution_count": 14,
   "metadata": {
    "colab": {
     "base_uri": "https://localhost:8080/"
    },
    "id": "Vb8OcW7rAuNv",
    "outputId": "7bf04ea4-d540-41fe-90fc-b5fb5bf47269"
   },
   "outputs": [
    {
     "name": "stdout",
     "output_type": "stream",
     "text": [
      "Vocabulary size : 54697\n"
     ]
    }
   ],
   "source": [
    "vocab_size = len(tokenizer.index_word)\n",
    "print(\"Vocabulary size :\",len(tokenizer.index_word))"
   ]
  },
  {
   "cell_type": "code",
   "execution_count": 15,
   "metadata": {
    "colab": {
     "base_uri": "https://localhost:8080/",
     "height": 265
    },
    "id": "AkAUEaoCAuN1",
    "outputId": "82482c4f-da7a-42a2-d2c5-430e9aba2284"
   },
   "outputs": [
    {
     "data": {
      "image/png": "[encoded data removed]",
      "text/plain": [
       "<Figure size 432x288 with 1 Axes>"
      ]
     },
     "metadata": {
      "needs_background": "light"
     },
     "output_type": "display_data"
    }
   ],
   "source": [
    "lens = [len(seq) for seq in X_seqs]\n",
    "sns.countplot(x=lens)\n",
    "plt.show()"
   ]
  },
  {
   "cell_type": "code",
   "execution_count": 16,
   "metadata": {
    "id": "MzGJnOcvAuN5"
   },
   "outputs": [],
   "source": [
    "from keras.preprocessing.sequence import pad_sequences\n",
    "\n",
    "max_len=40\n",
    "X_seqs_pd = pad_sequences(X_seqs, truncating=\"pre\", padding=\"pre\", maxlen=max_len)"
   ]
  },
  {
   "cell_type": "code",
   "execution_count": 18,
   "metadata": {},
   "outputs": [
    {
     "name": "stdout",
     "output_type": "stream",
     "text": [
      "Before Padding\n",
      "[[25, 310, 1605, 288, 474, 622]]\n",
      "\n",
      "After Padding\n",
      "[[   0    0    0    0    0    0    0    0    0    0    0    0    0    0\n",
      "     0    0    0    0    0    0    0    0    0    0    0    0    0    0\n",
      "     0    0    0    0    0    0   25  310 1605  288  474  622]]\n"
     ]
    }
   ],
   "source": [
    "print(\"Before Padding\")\n",
    "print(X_seqs[:1])\n",
    "\n",
    "print(\"\\nAfter Padding\")\n",
    "print(X_seqs_pd[:1])"
   ]
  },
  {
   "cell_type": "code",
   "execution_count": 17,
   "metadata": {
    "colab": {
     "base_uri": "https://localhost:8080/",
     "height": 265
    },
    "id": "zGlQpu8KAuN9",
    "outputId": "150d7587-b12d-4986-cbfd-883f1e0d93a9"
   },
   "outputs": [
    {
     "data": {
      "image/png": "[encoded data removed]",
      "text/plain": [
       "<Figure size 432x288 with 1 Axes>"
      ]
     },
     "metadata": {
      "needs_background": "light"
     },
     "output_type": "display_data"
    }
   ],
   "source": [
    "lens = [len(seq) for seq in X_seqs_pd]\n",
    "sns.countplot(x=lens)\n",
    "plt.show()"
   ]
  },
  {
   "cell_type": "markdown",
   "metadata": {},
   "source": [
    "### Train Test Split"
   ]
  },
  {
   "cell_type": "code",
   "execution_count": null,
   "metadata": {
    "colab": {
     "base_uri": "https://localhost:8080/"
    },
    "id": "mYwu-d43M_ch",
    "outputId": "a99bed8f-e1a1-444c-e1f6-72f187b25ba4"
   },
   "outputs": [
    {
     "name": "stdout",
     "output_type": "stream",
     "text": [
      "Training X Dim  (150626, 40)\n",
      "Training y Dim  (150626, 20)\n",
      "Test X Dim  (64554, 40)\n",
      "Test y Dim  (64554, 20)\n"
     ]
    }
   ],
   "source": [
    "from sklearn.model_selection import train_test_split\n",
    "\n",
    "X_train, X_test ,y_train, y_test = train_test_split(X_seqs_pd, y, test_size=0.3, random_state=105)\n",
    "print(\"Training X Dim \",X_train.shape)\n",
    "print(\"Training y Dim \",y_train.shape)\n",
    "\n",
    "print(\"Test X Dim \",X_test.shape)\n",
    "print(\"Test y Dim \",y_test.shape)"
   ]
  },
  {
   "cell_type": "markdown",
   "metadata": {
    "id": "Gyy2IgPvAuOA"
   },
   "source": [
    "#   "
   ]
  },
  {
   "cell_type": "markdown",
   "metadata": {
    "id": "Gyy2IgPvAuOA"
   },
   "source": [
    "## Deep Learning  Model using LSTMs"
   ]
  },
  {
   "cell_type": "code",
   "execution_count": 64,
   "metadata": {
    "colab": {
     "base_uri": "https://localhost:8080/"
    },
    "id": "9oXcw9wqAuOB",
    "outputId": "0b9d9e23-9700-493d-bff3-10c50a3a34ca"
   },
   "outputs": [
    {
     "name": "stdout",
     "output_type": "stream",
     "text": [
      "Model: \"sequential_3\"\n",
      "_________________________________________________________________\n",
      "Layer (type)                 Output Shape              Param #   \n",
      "=================================================================\n",
      "embedding_3 (Embedding)      (None, 40, 20)            1253440   \n",
      "_________________________________________________________________\n",
      "lstm_6 (LSTM)                (None, 40, 80)            32320     \n",
      "_________________________________________________________________\n",
      "dropout_8 (Dropout)          (None, 40, 80)            0         \n",
      "_________________________________________________________________\n",
      "lstm_7 (LSTM)                (None, 40)                19360     \n",
      "_________________________________________________________________\n",
      "dropout_9 (Dropout)          (None, 40)                0         \n",
      "_________________________________________________________________\n",
      "dense_5 (Dense)              (None, 20)                820       \n",
      "=================================================================\n",
      "Total params: 1,305,940\n",
      "Trainable params: 1,305,940\n",
      "Non-trainable params: 0\n",
      "_________________________________________________________________\n"
     ]
    }
   ],
   "source": [
    "from keras.models import Sequential\n",
    "from keras.layers import Dropout, Dense, LSTM, Bidirectional,Embedding, GlobalMaxPool1D\n",
    "\n",
    "\n",
    "\n",
    "vocabulary_size = vocab_size\n",
    "seq_len = 40\n",
    "embed_len=20\n",
    "\n",
    "model = Sequential()\n",
    "model.add(Embedding(vocabulary_size+1, embed_len, input_length=seq_len))\n",
    "model.add(LSTM(units = 80, return_sequences=True))\n",
    "model.add(Dropout(0.5))\n",
    "model.add(LSTM(units = 40))\n",
    "model.add(Dropout(0.5))\n",
    "model.add(Dense(units=20, activation='softmax'))\n",
    "model.summary()"
   ]
  },
  {
   "cell_type": "code",
   "execution_count": 65,
   "metadata": {
    "id": "xbzYqIY_QWGn"
   },
   "outputs": [],
   "source": [
    "from tensorflow.keras.callbacks import EarlyStopping\n",
    "\n",
    "early_stop = EarlyStopping(monitor=\"val_loss\", mode=\"min\", patience=1,verbose=1)\n",
    "\n",
    "model.compile(loss = 'categorical_crossentropy',\n",
    "             optimizer = \"adam\",\n",
    "             metrics=[\"accuracy\"])"
   ]
  },
  {
   "cell_type": "code",
   "execution_count": null,
   "metadata": {},
   "outputs": [],
   "source": [
    "from keras.utils import to_categorical\n",
    "\n",
    "y_train_cat = to_categorical(y_train)\n",
    "y_test_cat = to_categorical(y_test)"
   ]
  },
  {
   "cell_type": "code",
   "execution_count": 66,
   "metadata": {
    "colab": {
     "base_uri": "https://localhost:8080/"
    },
    "id": "vRdqCMbGAuOI",
    "outputId": "ca799c41-0d78-4fb2-daaa-4c1b5ca36335"
   },
   "outputs": [
    {
     "name": "stdout",
     "output_type": "stream",
     "text": [
      "Epoch 1/20\n",
      "1177/1177 [==============================] - 25s 21ms/step - loss: 2.4237 - accuracy: 0.2475 - val_loss: 1.7973 - val_accuracy: 0.4525\n",
      "Epoch 2/20\n",
      "1177/1177 [==============================] - 24s 20ms/step - loss: 1.4758 - accuracy: 0.5607 - val_loss: 1.1806 - val_accuracy: 0.6666\n",
      "Epoch 3/20\n",
      "1177/1177 [==============================] - 24s 20ms/step - loss: 0.9992 - accuracy: 0.7178 - val_loss: 0.9039 - val_accuracy: 0.7511\n",
      "Epoch 4/20\n",
      "1177/1177 [==============================] - 24s 21ms/step - loss: 0.7420 - accuracy: 0.7943 - val_loss: 0.7573 - val_accuracy: 0.7995\n",
      "Epoch 5/20\n",
      "1177/1177 [==============================] - 24s 21ms/step - loss: 0.5991 - accuracy: 0.8347 - val_loss: 0.7019 - val_accuracy: 0.8205\n",
      "Epoch 6/20\n",
      "1177/1177 [==============================] - 24s 20ms/step - loss: 0.5062 - accuracy: 0.8620 - val_loss: 0.6547 - val_accuracy: 0.8379\n",
      "Epoch 7/20\n",
      "1177/1177 [==============================] - 24s 20ms/step - loss: 0.4369 - accuracy: 0.8817 - val_loss: 0.6341 - val_accuracy: 0.8493\n",
      "Epoch 8/20\n",
      "1177/1177 [==============================] - 24s 20ms/step - loss: 0.3876 - accuracy: 0.8950 - val_loss: 0.6074 - val_accuracy: 0.8619\n",
      "Epoch 9/20\n",
      "1177/1177 [==============================] - 24s 20ms/step - loss: 0.3423 - accuracy: 0.9080 - val_loss: 0.6077 - val_accuracy: 0.8668\n",
      "Epoch 00009: early stopping\n"
     ]
    },
    {
     "data": {
      "text/plain": [
       "<tensorflow.python.keras.callbacks.History at 0x7ff1ac36b748>"
      ]
     },
     "execution_count": 66,
     "metadata": {
      "tags": []
     },
     "output_type": "execute_result"
    }
   ],
   "source": [
    "\n",
    "batch_size=128\n",
    "epochs = 20\n",
    "\n",
    "model.fit(X_train, y_train_cat, batch_size=batch_size, epochs = epochs, shuffle=True,\n",
    "          validation_data=(X_test, y_test_cat), callbacks=[early_stop])"
   ]
  },
  {
   "cell_type": "code",
   "execution_count": null,
   "metadata": {
    "id": "tvDYrJ4cG4Do"
   },
   "outputs": [],
   "source": [
    "model.evaluate(x_test, y_test, batch_size=batch_size)"
   ]
  },
  {
   "cell_type": "code",
   "execution_count": 67,
   "metadata": {
    "colab": {
     "base_uri": "https://localhost:8080/",
     "height": 328
    },
    "id": "R6QQrHTZcXPO",
    "outputId": "ad4d5511-49b5-4350-822e-ee653dfa68ce"
   },
   "outputs": [
    {
     "data": {
      "text/html": [
       "<div>\n",
       "<style scoped>\n",
       "    .dataframe tbody tr th:only-of-type {\n",
       "        vertical-align: middle;\n",
       "    }\n",
       "\n",
       "    .dataframe tbody tr th {\n",
       "        vertical-align: top;\n",
       "    }\n",
       "\n",
       "    .dataframe thead th {\n",
       "        text-align: right;\n",
       "    }\n",
       "</style>\n",
       "<table border=\"1\" class=\"dataframe\">\n",
       "  <thead>\n",
       "    <tr style=\"text-align: right;\">\n",
       "      <th></th>\n",
       "      <th>loss</th>\n",
       "      <th>accuracy</th>\n",
       "      <th>val_loss</th>\n",
       "      <th>val_accuracy</th>\n",
       "    </tr>\n",
       "  </thead>\n",
       "  <tbody>\n",
       "    <tr>\n",
       "      <th>0</th>\n",
       "      <td>2.423696</td>\n",
       "      <td>0.247467</td>\n",
       "      <td>1.797268</td>\n",
       "      <td>0.452458</td>\n",
       "    </tr>\n",
       "    <tr>\n",
       "      <th>1</th>\n",
       "      <td>1.475779</td>\n",
       "      <td>0.560713</td>\n",
       "      <td>1.180616</td>\n",
       "      <td>0.666558</td>\n",
       "    </tr>\n",
       "    <tr>\n",
       "      <th>2</th>\n",
       "      <td>0.999234</td>\n",
       "      <td>0.717778</td>\n",
       "      <td>0.903867</td>\n",
       "      <td>0.751139</td>\n",
       "    </tr>\n",
       "    <tr>\n",
       "      <th>3</th>\n",
       "      <td>0.742029</td>\n",
       "      <td>0.794292</td>\n",
       "      <td>0.757338</td>\n",
       "      <td>0.799455</td>\n",
       "    </tr>\n",
       "    <tr>\n",
       "      <th>4</th>\n",
       "      <td>0.599075</td>\n",
       "      <td>0.834730</td>\n",
       "      <td>0.701901</td>\n",
       "      <td>0.820538</td>\n",
       "    </tr>\n",
       "    <tr>\n",
       "      <th>5</th>\n",
       "      <td>0.506225</td>\n",
       "      <td>0.861976</td>\n",
       "      <td>0.654693</td>\n",
       "      <td>0.837888</td>\n",
       "    </tr>\n",
       "    <tr>\n",
       "      <th>6</th>\n",
       "      <td>0.436892</td>\n",
       "      <td>0.881694</td>\n",
       "      <td>0.634060</td>\n",
       "      <td>0.849258</td>\n",
       "    </tr>\n",
       "    <tr>\n",
       "      <th>7</th>\n",
       "      <td>0.387615</td>\n",
       "      <td>0.894952</td>\n",
       "      <td>0.607426</td>\n",
       "      <td>0.861868</td>\n",
       "    </tr>\n",
       "    <tr>\n",
       "      <th>8</th>\n",
       "      <td>0.342276</td>\n",
       "      <td>0.907991</td>\n",
       "      <td>0.607691</td>\n",
       "      <td>0.866825</td>\n",
       "    </tr>\n",
       "  </tbody>\n",
       "</table>\n",
       "</div>"
      ],
      "text/plain": [
       "       loss  accuracy  val_loss  val_accuracy\n",
       "0  2.423696  0.247467  1.797268      0.452458\n",
       "1  1.475779  0.560713  1.180616      0.666558\n",
       "2  0.999234  0.717778  0.903867      0.751139\n",
       "3  0.742029  0.794292  0.757338      0.799455\n",
       "4  0.599075  0.834730  0.701901      0.820538\n",
       "5  0.506225  0.861976  0.654693      0.837888\n",
       "6  0.436892  0.881694  0.634060      0.849258\n",
       "7  0.387615  0.894952  0.607426      0.861868\n",
       "8  0.342276  0.907991  0.607691      0.866825"
      ]
     },
     "execution_count": 67,
     "metadata": {
      "tags": []
     },
     "output_type": "execute_result"
    }
   ],
   "source": [
    "loss = pd.DataFrame(model.history.history)\n",
    "loss"
   ]
  },
  {
   "cell_type": "markdown",
   "metadata": {},
   "source": [
    "#    "
   ]
  },
  {
   "cell_type": "markdown",
   "metadata": {},
   "source": [
    "## Deep Learning  Model using Bidirectional-LSTMs"
   ]
  },
  {
   "cell_type": "code",
   "execution_count": 15,
   "metadata": {
    "colab": {
     "base_uri": "https://localhost:8080/"
    },
    "id": "9oXcw9wqAuOB",
    "outputId": "7376b5cf-da42-47c4-b298-1c43aa1d6bf9"
   },
   "outputs": [
    {
     "name": "stdout",
     "output_type": "stream",
     "text": [
      "Model: \"sequential\"\n",
      "_________________________________________________________________\n",
      "Layer (type)                 Output Shape              Param #   \n",
      "=================================================================\n",
      "embedding (Embedding)        (None, 40, 128)           8022016   \n",
      "_________________________________________________________________\n",
      "bidirectional (Bidirectional (None, 40, 160)           133760    \n",
      "_________________________________________________________________\n",
      "bidirectional_1 (Bidirection (None, 40, 160)           154240    \n",
      "_________________________________________________________________\n",
      "global_max_pooling1d (Global (None, 160)               0         \n",
      "_________________________________________________________________\n",
      "dropout (Dropout)            (None, 160)               0         \n",
      "_________________________________________________________________\n",
      "dense (Dense)                (None, 64)                10304     \n",
      "_________________________________________________________________\n",
      "dropout_1 (Dropout)          (None, 64)                0         \n",
      "_________________________________________________________________\n",
      "dense_1 (Dense)              (None, 20)                1300      \n",
      "=================================================================\n",
      "Total params: 8,321,620\n",
      "Trainable params: 8,321,620\n",
      "Non-trainable params: 0\n",
      "_________________________________________________________________\n"
     ]
    }
   ],
   "source": [
    "from keras.models import Sequential\n",
    "from keras.layers import Dropout, Dense, LSTM, Bidirectional,Embedding, GlobalMaxPool1D\n",
    "\n",
    "\n",
    "\n",
    "vocabulary_size = vocab_size\n",
    "seq_len = 40\n",
    "embed_len=128\n",
    "\n",
    "\n",
    "model = Sequential()\n",
    "model.add(Embedding(vocabulary_size+1, embed_len, input_length=seq_len))\n",
    "model.add(Bidirectional(LSTM(80,return_sequences=True)))\n",
    "model.add(Bidirectional(LSTM(80,return_sequences=True)))\n",
    "model.add(GlobalMaxPool1D())\n",
    "model.add(Dropout(0.5))\n",
    "model.add(Dense(64, activation=\"relu\"))\n",
    "model.add(Dropout(0.5))\n",
    "model.add(Dense(20, activation=\"softmax\"))\n",
    "\n",
    "model.summary()"
   ]
  },
  {
   "cell_type": "code",
   "execution_count": 16,
   "metadata": {
    "id": "xbzYqIY_QWGn"
   },
   "outputs": [],
   "source": [
    "from tensorflow.keras.callbacks import EarlyStopping\n",
    "\n",
    "early_stop = EarlyStopping(monitor=\"val_loss\", mode=\"min\", patience=0,verbose=1)\n",
    "\n",
    "model.compile(loss = 'categorical_crossentropy',\n",
    "             optimizer = \"adam\",\n",
    "             metrics=[\"accuracy\"])"
   ]
  },
  {
   "cell_type": "code",
   "execution_count": null,
   "metadata": {},
   "outputs": [],
   "source": [
    "from keras.utils import to_categorical\n",
    "\n",
    "y_train_cat = to_categorical(y_train)\n",
    "y_test_cat = to_categorical(y_test)"
   ]
  },
  {
   "cell_type": "code",
   "execution_count": 18,
   "metadata": {
    "colab": {
     "base_uri": "https://localhost:8080/",
     "height": 649
    },
    "id": "vRdqCMbGAuOI",
    "outputId": "0c196338-abc7-4594-a1d7-69a319d57697"
   },
   "outputs": [
    {
     "name": "stdout",
     "output_type": "stream",
     "text": [
      "Epoch 1/15\n",
      "2354/2354 [==============================] - 224s 95ms/step - loss: 2.2879 - accuracy: 0.2940 - val_loss: 1.4041 - val_accuracy: 0.5763\n",
      "Epoch 2/15\n",
      "2354/2354 [==============================] - 223s 95ms/step - loss: 1.0589 - accuracy: 0.6898 - val_loss: 0.8214 - val_accuracy: 0.7561\n",
      "Epoch 3/15\n",
      "2354/2354 [==============================] - 223s 95ms/step - loss: 0.6128 - accuracy: 0.8237 - val_loss: 0.6235 - val_accuracy: 0.8254\n",
      "Epoch 4/15\n",
      "2354/2354 [==============================] - 223s 95ms/step - loss: 0.4133 - accuracy: 0.8837 - val_loss: 0.5428 - val_accuracy: 0.8616\n",
      "Epoch 5/15\n",
      "2354/2354 [==============================] - 222s 94ms/step - loss: 0.3023 - accuracy: 0.9167 - val_loss: 0.4961 - val_accuracy: 0.8795\n",
      "Epoch 6/15\n",
      "2354/2354 [==============================] - 222s 94ms/step - loss: 0.2319 - accuracy: 0.9374 - val_loss: 0.5038 - val_accuracy: 0.8874\n",
      "Epoch 00006: early stopping\n"
     ]
    },
    {
     "ename": "KeyboardInterrupt",
     "evalue": "ignored",
     "output_type": "error",
     "traceback": []
    }
   ],
   "source": [
    "batch_size=64\n",
    "epochs = 15\n",
    "\n",
    "model.fit(X_train, y_train, batch_size=batch_size, epochs = epochs, \n",
    "          shuffle=True,validation_data=(X_test, y_test), callbacks=[early_stop])"
   ]
  },
  {
   "cell_type": "code",
   "execution_count": null,
   "metadata": {
    "colab": {
     "base_uri": "https://localhost:8080/"
    },
    "id": "tvDYrJ4cG4Do",
    "outputId": "17558846-5d24-4c1b-b270-31070c93ed28"
   },
   "outputs": [
    {
     "name": "stdout",
     "output_type": "stream",
     "text": [
      "1009/1009 [==============================] - 7s 7ms/step - loss: 0.5038 - accuracy: 0.8874\n"
     ]
    },
    {
     "data": {
      "text/plain": [
       "[0.5403534173965454, 0.8935310244560242]"
      ]
     },
     "execution_count": 83,
     "metadata": {
      "tags": []
     },
     "output_type": "execute_result"
    }
   ],
   "source": [
    "model.evaluate(X_test, y_test, batch_size=batch_size)"
   ]
  },
  {
   "cell_type": "code",
   "execution_count": 19,
   "metadata": {
    "colab": {
     "base_uri": "https://localhost:8080/",
     "height": 266
    },
    "id": "R6QQrHTZcXPO",
    "outputId": "d61fd7bf-67e7-4ac1-f905-c8b096982377"
   },
   "outputs": [
    {
     "data": {
      "text/html": [
       "<div>\n",
       "<style scoped>\n",
       "    .dataframe tbody tr th:only-of-type {\n",
       "        vertical-align: middle;\n",
       "    }\n",
       "\n",
       "    .dataframe tbody tr th {\n",
       "        vertical-align: top;\n",
       "    }\n",
       "\n",
       "    .dataframe thead th {\n",
       "        text-align: right;\n",
       "    }\n",
       "</style>\n",
       "<table border=\"1\" class=\"dataframe\">\n",
       "  <thead>\n",
       "    <tr style=\"text-align: right;\">\n",
       "      <th></th>\n",
       "      <th>loss</th>\n",
       "      <th>accuracy</th>\n",
       "      <th>val_loss</th>\n",
       "      <th>val_accuracy</th>\n",
       "    </tr>\n",
       "  </thead>\n",
       "  <tbody>\n",
       "    <tr>\n",
       "      <th>0</th>\n",
       "      <td>2.2879</td>\n",
       "      <td>0.2940</td>\n",
       "      <td>1.4041</td>\n",
       "      <td>0.5763</td>\n",
       "    </tr>\n",
       "    <tr>\n",
       "      <th>1</th>\n",
       "      <td>1.0589</td>\n",
       "      <td>0.6898</td>\n",
       "      <td>0.8214</td>\n",
       "      <td>0.7561</td>\n",
       "    </tr>\n",
       "    <tr>\n",
       "      <th>2</th>\n",
       "      <td>0.6128</td>\n",
       "      <td>0.8237</td>\n",
       "      <td>0.6235</td>\n",
       "      <td>0.8254</td>\n",
       "    </tr>\n",
       "    <tr>\n",
       "      <th>3</th>\n",
       "      <td>0.4133</td>\n",
       "      <td>0.8837</td>\n",
       "      <td>0.5428</td>\n",
       "      <td>0.8616</td>\n",
       "    </tr>\n",
       "    <tr>\n",
       "      <th>4</th>\n",
       "      <td>0.3023</td>\n",
       "      <td>0.9167</td>\n",
       "      <td>0.4961</td>\n",
       "      <td>0.8795</td>\n",
       "    </tr>\n",
       "    <tr>\n",
       "      <th>5</th>\n",
       "      <td>0.2319</td>\n",
       "      <td>0.9374</td>\n",
       "      <td>0.5038</td>\n",
       "      <td>0.8874</td>\n",
       "    </tr>\n",
       "  </tbody>\n",
       "</table>\n",
       "</div>"
      ],
      "text/plain": [
       "       loss  accuracy  val_loss  val_accuracy\n",
       "0  2.2879  0.2940  1.4041      0.5763\n",
       "1  1.0589  0.6898  0.8214      0.7561\n",
       "2  0.6128  0.8237  0.6235      0.8254\n",
       "3  0.4133  0.8837  0.5428      0.8616\n",
       "4  0.3023  0.9167  0.4961      0.8795\n",
       "5  0.2319  0.9374  0.5038      0.8874\n"
      ]
     },
     "execution_count": 19,
     "metadata": {
      "tags": []
     },
     "output_type": "execute_result"
    }
   ],
   "source": [
    "loss = pd.DataFrame(model.history.history)\n",
    "loss"
   ]
  },
  {
   "cell_type": "code",
   "execution_count": 34,
   "metadata": {
    "colab": {
     "base_uri": "https://localhost:8080/",
     "height": 266
    },
    "id": "H70ZcHPgcaU4",
    "outputId": "94475b6f-6a98-499c-8314-1c1a53d2a48b"
   },
   "outputs": [
    {
     "data": {
      "image/png": "[encoded data removed]",
      "text/plain": [
       "<Figure size 432x288 with 1 Axes>"
      ]
     },
     "metadata": {
      "needs_background": "light",
      "tags": []
     },
     "output_type": "display_data"
    }
   ],
   "source": [
    "plt.plot(loss[[\"loss\",\"val_loss\"]])\n",
    "plt.show()"
   ]
  },
  {
   "cell_type": "code",
   "execution_count": 28,
   "metadata": {
    "colab": {
     "base_uri": "https://localhost:8080/",
     "height": 299
    },
    "id": "lx0BaS3xOY4K",
    "outputId": "0860f00d-ac3d-4aff-e4ef-69170093a504"
   },
   "outputs": [
    {
     "data": {
      "text/plain": [
       "[<matplotlib.lines.Line2D at 0x7ffb1188f160>,\n",
       " <matplotlib.lines.Line2D at 0x7ffb1188f278>]"
      ]
     },
     "execution_count": 28,
     "metadata": {
      "tags": []
     },
     "output_type": "execute_result"
    },
    {
     "data": {
      "image/png": "[encoded data removed]",
      "text/plain": [
       "<Figure size 432x288 with 1 Axes>"
      ]
     },
     "metadata": {
      "needs_background": "light",
      "tags": []
     },
     "output_type": "display_data"
    }
   ],
   "source": [
    "plt.plot(loss[[\"accuracy\",\"val_accuracy\"]])"
   ]
  },
  {
   "cell_type": "markdown",
   "metadata": {
    "id": "7nP_mKV-ZXei"
   },
   "source": [
    "## Model Evaluation"
   ]
  },
  {
   "cell_type": "code",
   "execution_count": 53,
   "metadata": {
    "colab": {
     "base_uri": "https://localhost:8080/"
    },
    "id": "Ttl-REfhZvDq",
    "outputId": "8bf98a7d-17f4-42ac-f7f3-e9652fcea66c"
   },
   "outputs": [
    {
     "name": "stdout",
     "output_type": "stream",
     "text": [
      "              precision    recall  f1-score   support\n",
      "\n",
      "           0       0.56      0.31      0.40      3211\n",
      "           1       0.69      0.64      0.66      3249\n",
      "           2       0.84      0.73      0.78      3240\n",
      "           3       0.79      0.85      0.82      3175\n",
      "           4       0.93      0.93      0.93      3208\n",
      "           5       0.82      0.88      0.85      3281\n",
      "           6       0.89      0.93      0.91      3255\n",
      "           7       0.87      0.94      0.90      3172\n",
      "           8       0.93      0.93      0.93      3273\n",
      "           9       0.84      0.94      0.89      3226\n",
      "          10       0.96      0.89      0.92      3202\n",
      "          11       0.93      0.98      0.95      3216\n",
      "          12       0.95      0.97      0.96      3277\n",
      "          13       0.95      0.97      0.96      3202\n",
      "          14       0.95      0.97      0.96      3225\n",
      "          15       0.95      0.98      0.97      3177\n",
      "          16       0.94      0.96      0.95      3234\n",
      "          17       0.97      0.98      0.97      3224\n",
      "          18       0.87      0.99      0.92      3235\n",
      "          19       0.96      0.97      0.96      3272\n",
      "\n",
      "    accuracy                           0.89     64554\n",
      "   macro avg       0.88      0.89      0.88     64554\n",
      "weighted avg       0.88      0.89      0.88     64554\n",
      "\n"
     ]
    }
   ],
   "source": [
    "from sklearn.metrics import classification_report, confusion_matrix\n",
    "\n",
    "\n",
    "predictions = model.predict_classes(X_test)\n",
    "print(classification_report(y_test, predictions))"
   ]
  },
  {
   "cell_type": "code",
   "execution_count": 49,
   "metadata": {
    "id": "bdyri7QeaSHC"
   },
   "outputs": [],
   "source": [
    "model.save(\"BLSTM.h5\")"
   ]
  },
  {
   "cell_type": "markdown",
   "metadata": {},
   "source": [
    "#  "
   ]
  },
  {
   "cell_type": "markdown",
   "metadata": {},
   "source": [
    "# Results"
   ]
  },
  {
   "cell_type": "code",
   "execution_count": 7,
   "metadata": {},
   "outputs": [
    {
     "data": {
      "image/png": "[encoded data removed]",
      "text/plain": [
       "<Figure size 576x432 with 1 Axes>"
      ]
     },
     "metadata": {},
     "output_type": "display_data"
    }
   ],
   "source": [
    "accuracy=[0.27,0.29,0.85,0.89]\n",
    "labels=['Naive Bayes','Support Vector Classifier','LSTM','Bidirectional LSTM']\n",
    "\n",
    "\n",
    "sns.set(rc={'figure.figsize':(8,6)})\n",
    "ax = sns.barplot(x=labels, y=accuracy)\n",
    "ax.set(xlabel='Model', ylabel='Accuracy')\n",
    "plt.show()"
   ]
  },
  {
   "cell_type": "code",
   "execution_count": null,
   "metadata": {},
   "outputs": [],
   "source": []
  }
 ],
 "metadata": {
  "accelerator": "GPU",
  "colab": {
   "collapsed_sections": [],
   "name": "Emoji_DL_90BL.ipynb",
   "provenance": []
  },
  "kernelspec": {
   "display_name": "Python 3 (ipykernel)",
   "language": "python",
   "name": "python3"
  },
  "language_info": {
   "codemirror_mode": {
    "name": "ipython",
    "version": 3
   },
   "file_extension": ".py",
   "mimetype": "text/x-python",
   "name": "python",
   "nbconvert_exporter": "python",
   "pygments_lexer": "ipython3",
   "version": "3.9.7"
  }
 },
 "nbformat": 4,
 "nbformat_minor": 1
}
